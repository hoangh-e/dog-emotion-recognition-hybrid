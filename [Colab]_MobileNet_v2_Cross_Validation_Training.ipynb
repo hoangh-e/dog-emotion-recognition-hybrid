{
  "cells": [
    {
      "cell_type": "raw",
      "metadata": {},
      "source": []
    },
    {
      "cell_type": "raw",
      "metadata": {
        "vscode": {
          "languageId": "raw"
        }
      },
      "source": [
        "# 🐕 Dog Emotion Classification - MobileNet v2 Cross-Validation Training\n",
        "\n",
        "Notebook này sẽ:\n",
        "1. **Cài đặt dependencies** và chuẩn bị môi trường\n",
        "2. **Download dataset** dog emotion classification  \n",
        "3. **Train MobileNet v2** với 30 epochs sử dụng K-Fold Cross Validation\n",
        "4. **Evaluate** với cross-validation scores và confusion matrix\n",
        "5. **Download models** và results về máy\n",
        "\n",
        "---\n",
        "**Author**: Dog Emotion Research Team  \n",
        "**Date**: 2025  \n",
        "**Runtime**: Google Colab (GPU T4/V100 recommended)  \n",
        "**Training**: MobileNet v2 với ImageNet pretrained weights + Cross Validation\n",
        "**Mobile Optimized**: Depthwise separable convolutions for efficiency\n"
      ]
    },
    {
      "cell_type": "raw",
      "metadata": {
        "vscode": {
          "languageId": "raw"
        }
      },
      "source": [
        "## 🔧 Step 1: Setup Environment\n"
      ]
    },
    {
      "cell_type": "code",
      "execution_count": null,
      "metadata": {},
      "outputs": [],
      "source": [
        "# Install required packages\n",
        "!pip install torch torchvision torchaudio --index-url https://download.pytorch.org/whl/cu121\n",
        "!pip install opencv-python-headless pillow pandas tqdm gdown albumentations matplotlib seaborn\n",
        "!pip install scikit-learn\n",
        "\n",
        "# Check GPU and setup\n",
        "import torch\n",
        "import torch.nn as nn\n",
        "import torch.optim as optim\n",
        "from torch.utils.data import Dataset, DataLoader, SubsetRandomSampler\n",
        "import torchvision.models as models\n",
        "import torchvision.transforms as transforms\n",
        "from PIL import Image\n",
        "import pandas as pd\n",
        "import numpy as np\n",
        "import os\n",
        "import time\n",
        "from tqdm import tqdm\n",
        "import matplotlib.pyplot as plt\n",
        "import seaborn as sns\n",
        "from sklearn.model_selection import KFold, StratifiedKFold\n",
        "from sklearn.metrics import classification_report, confusion_matrix, accuracy_score\n",
        "import json\n",
        "import zipfile\n",
        "\n",
        "print(f\"🔥 PyTorch version: {torch.__version__}\")\n",
        "print(f\"🚀 CUDA available: {torch.cuda.is_available()}\")\n",
        "if torch.cuda.is_available():\n",
        "    print(f\"🎯 GPU: {torch.cuda.get_device_name(0)}\")\n",
        "    print(f\"💾 GPU Memory: {torch.cuda.get_device_properties(0).total_memory / 1e9:.1f} GB\")\n",
        "    device = torch.device('cuda')\n",
        "else:\n",
        "    print(\"⚠️ Using CPU - training will be slower\")\n",
        "    device = torch.device('cpu')\n"
      ]
    }
  ],
  "metadata": {
    "language_info": {
      "name": "python"
    }
  },
  "nbformat": 4,
  "nbformat_minor": 2
}
